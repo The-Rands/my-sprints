{
 "cells": [
  {
   "cell_type": "code",
   "execution_count": 3,
   "metadata": {},
   "outputs": [
    {
     "name": "stdout",
     "output_type": "stream",
     "text": [
      "<pymongo.results.InsertManyResult object at 0x0000028DB6CF0278>\n"
     ]
    }
   ],
   "source": [
    "import pymongo\n",
    "\n",
    "myclient = pymongo.MongoClient(\"mongodb://localhost:27017/\")   \n",
    "\n",
    "mydb = myclient[\"Data_Tracker\"]                       \n",
    "\n",
    "mycol = mydb[\"Stock\"]\n",
    "\n",
    "mydict = [\n",
    "{ \"Item\": \"Dairy Milk\",\"selling price\":12.50, \"Quantity\":56,\"Profit\":576.00 , \"Size\": \"grams\" , \"barcode\": 1 }, \n",
    "{ \"Item\": \"KitKat\",\"selling price\":15.00, \"Quantity\":77,\"Profit\":1386.00 , \"Size\": \"grams\" , \"barcode\": 2 }, \n",
    "{ \"Item\": \"lindot\",\"selling price\":20.00,\"Quantity\":67,\"Profit\":936.00 , \"Size\": \"g\" , \"barcode\": 3 }, \n",
    "{ \"Item\": \"Bar one\",\"selling price\":11.00, \"Quantity\":87,\"Profit\":786.00, \"Size\": \"grams\" , \"barcode\": 4 }, \n",
    "{ \"Item\": \"Snickers\",\"selling price\":13.00, \"Quantity\":55,\"Profit\":667.00 , \"Size\": \"grams\" , \"barcode\": 5 }, \n",
    "{ \"Item\": \"Mars\",\"selling price\": 14.00, \"Quantity\":44,\"Profit\":577.00 , \"Size\": \"gram\" , \"barcode\": 6 }, \n",
    "{ \"Item\": \"Rasberry\",\"selling price\":25.00, \"Quantity\":89,\"Profit\":25.00 , \"Size\": \"grams\" , \"barcode\": 111 },\n",
    "{ \"Item\": \"honeycomb\",\"selling price\":30.00, \"Quantity\":56,\"Profit\":750.00 , \"Size\": \"Each\" , \"barcode\": 112 },\n",
    "{ \"Item\": \"Red velvet\",\"selling price\":20.00, \"Quantity\":54,\"Profit\":860.00 , \"Size\": \"Each\" , \"barcode\": 113},\n",
    "{ \"Item\": \"Strawberry\",\"selling price\":15.00, \"Quantity\":45,\"Profit\":456.00 , \"Size\": \"Each\" , \"barcode\": 114 },\n",
    "{ \"Item\": \"Vanilla\",\"selling price\":19.00, \"Quantity\":65,\"Profit\":798.00 , \"Size\": \"Each\" , \"barcode\": 115 },\n",
    "{ \"Item\": \"Banana\",\"selling price\":12.00, \"Quantity\":89,\"Profit\":2500.00 , \"Size\": \"per Kg\" , \"barcode\": 889 },\n",
    "{ \"Item\": \"Apple\",\"selling price\":12.00, \"Quantity\":45,\"Profit\":1950.00 , \"Size\": \"per Kg\" , \"barcode\":890 },\n",
    "{ \"Item\": \"Mango\",\"selling price\":22.50, \"Quantity\":65,\"Profit\":3450.00 , \"Size\": \"per Kg\" , \"barcode\": 891 },\n",
    "{ \"Item\": \"Grape\",\"selling price\":16.00, \"Quantity\":56,\"Profit\":1500.00 , \"Size\": \"per Kg\" , \"barcode\": 892 },\n",
    "{ \"Item\": \"Peach\",\"selling price\":24.00, \"Quantity\":32,\"Profit\":880.00 , \"Size\": \"per Kg\" , \"barcode\": 893 },\n",
    "{ \"Item\": \"Pinapples\",\"selling price\":25.00, \"Quantity\":66,\"Profit\":970.00 , \"Size\": \"per Kg\" , \"barcode\": 894 },\n",
    "   \n",
    "]\n",
    "x = mycol.insert_many(mydict)\n",
    "\n",
    "#print list of the _id values of the inserted documents:\n",
    "\n",
    "print(x)"
   ]
  },
  {
   "cell_type": "code",
   "execution_count": null,
   "metadata": {},
   "outputs": [],
   "source": [
    "import pymongo\n",
    "\n",
    "myclient = pymongo.MongoClient(\"mongodb://localhost:27017/\")\n",
    "mydb = myclient[\"mydatabase\"]\n",
    "mycol = mydb[\"Top Three\"]\n",
    "mydoc = mycol.find().sort(\"name\", -1)\n",
    "\n",
    "for x in mydoc:\n",
    "    print(x)"
   ]
  },
  {
   "cell_type": "code",
   "execution_count": 9,
   "metadata": {},
   "outputs": [
    {
     "name": "stdout",
     "output_type": "stream",
     "text": [
      "<pymongo.results.InsertManyResult object at 0x0000028DB6AD9958>\n"
     ]
    }
   ],
   "source": [
    "import pymongo\n",
    "\n",
    "myclient = pymongo.MongoClient(\"mongodb://localhost:27017/\")   \n",
    "\n",
    "mydb = myclient[\"Data_Tracker\"]                       \n",
    "\n",
    "mycol = mydb[\"Top Three\"]\n",
    "mydict = [\n",
    "\n",
    "{ \"Type\": \"Grape\", \"Quantity\":56,\"Profit\":1500.00 , \"Size\": \"per Kg\" , \"barcode\": 892 },\n",
    "{ \"Type\": \"Peach\", \"Quantity\":32,\"Profit\":880.00 , \"Size\": \"per Kg\" , \"barcode\": 893 },\n",
    "{ \"Type\": \"Pinapples\", \"Quantity\":66,\"Profit\":970.00 , \"Size\": \"per Kg\" , \"barcode\": 894 },\n",
    "   \n",
    "]\n",
    "x = mycol.insert_many(mydict)\n",
    "\n",
    "#print list of the _id values of the inserted documents:\n",
    "\n",
    "print(x)\n"
   ]
  },
  {
   "cell_type": "code",
   "execution_count": 10,
   "metadata": {},
   "outputs": [
    {
     "name": "stdout",
     "output_type": "stream",
     "text": [
      "<pymongo.results.DeleteResult object at 0x000001F61FD40138>\n"
     ]
    }
   ],
   "source": [
    "import pymongo\n",
    "\n",
    "myclient = pymongo.MongoClient(\"mongodb://localhost:27017/\")   \n",
    "\n",
    "mydb = myclient[\"Data_Tracker\"]                       \n",
    "\n",
    "mycol = mydb[\"Top Three\"]\n",
    "myquery = { \"Type\": \"Peach\", \"Quantity\":32,\"Profit\":880.00 , \"Size\": \"per Kg\" , \"barcode\": 893,\"Type\": \"Pinapples\", \"Quantity\":66,\"Profit\":970.00 , \"Size\": \"per Kg\" , \"barcode\": 894 }\n",
    "\n",
    "\n",
    "x=mycol.delete_one(myquery)\n",
    "print(x)"
   ]
  },
  {
   "cell_type": "code",
   "execution_count": 17,
   "metadata": {},
   "outputs": [
    {
     "name": "stdout",
     "output_type": "stream",
     "text": [
      "{'_id': ObjectId('5e5788999a1c2123188ca93b'), 'Item': 'lindot', 'selling price': 20.0, 'Quantity': 67, 'Profit': 936.0, 'Size': 'g', 'barcode': 3}\n",
      "{'_id': ObjectId('5e5788dd9a1c2123188ca94d'), 'Item': 'lindot', 'selling price': 20.0, 'Quantity': 67, 'Profit': 936.0, 'Size': 'g', 'barcode': 3}\n",
      "{'_id': ObjectId('5e5788999a1c2123188ca940'), 'Item': 'honeycomb', 'selling price': 30.0, 'Quantity': 56, 'Profit': 750.0, 'Size': 'Each', 'barcode': 112}\n",
      "{'_id': ObjectId('5e5788dd9a1c2123188ca952'), 'Item': 'honeycomb', 'selling price': 30.0, 'Quantity': 56, 'Profit': 750.0, 'Size': 'Each', 'barcode': 112}\n",
      "{'_id': ObjectId('5e5788999a1c2123188ca943'), 'Item': 'Vanilla', 'selling price': 19.0, 'Quantity': 65, 'Profit': 798.0, 'Size': 'Each', 'barcode': 115}\n",
      "{'_id': ObjectId('5e5788dd9a1c2123188ca955'), 'Item': 'Vanilla', 'selling price': 19.0, 'Quantity': 65, 'Profit': 798.0, 'Size': 'Each', 'barcode': 115}\n",
      "{'_id': ObjectId('5e5788999a1c2123188ca942'), 'Item': 'Strawberry', 'selling price': 15.0, 'Quantity': 45, 'Profit': 456.0, 'Size': 'Each', 'barcode': 114}\n",
      "{'_id': ObjectId('5e5788dd9a1c2123188ca954'), 'Item': 'Strawberry', 'selling price': 15.0, 'Quantity': 45, 'Profit': 456.0, 'Size': 'Each', 'barcode': 114}\n",
      "{'_id': ObjectId('5e5788999a1c2123188ca93d'), 'Item': 'Snickers', 'selling price': 13.0, 'Quantity': 55, 'Profit': 667.0, 'Size': 'grams', 'barcode': 5}\n",
      "{'_id': ObjectId('5e5788dd9a1c2123188ca94f'), 'Item': 'Snickers', 'selling price': 13.0, 'Quantity': 55, 'Profit': 667.0, 'Size': 'grams', 'barcode': 5}\n",
      "{'_id': ObjectId('5e5788999a1c2123188ca941'), 'Item': 'Red velvet', 'selling price': 20.0, 'Quantity': 54, 'Profit': 860.0, 'Size': 'Each', 'barcode': 113}\n",
      "{'_id': ObjectId('5e5788dd9a1c2123188ca953'), 'Item': 'Red velvet', 'selling price': 20.0, 'Quantity': 54, 'Profit': 860.0, 'Size': 'Each', 'barcode': 113}\n",
      "{'_id': ObjectId('5e5788999a1c2123188ca93f'), 'Item': 'Rasberry', 'selling price': 25.0, 'Quantity': 89, 'Profit': 25.0, 'Size': 'grams', 'barcode': 111}\n",
      "{'_id': ObjectId('5e5788dd9a1c2123188ca951'), 'Item': 'Rasberry', 'selling price': 25.0, 'Quantity': 89, 'Profit': 25.0, 'Size': 'grams', 'barcode': 111}\n",
      "{'_id': ObjectId('5e5788999a1c2123188ca949'), 'Item': 'Pinapples', 'selling price': 25.0, 'Quantity': 66, 'Profit': 970.0, 'Size': 'per Kg', 'barcode': 894}\n",
      "{'_id': ObjectId('5e5788dd9a1c2123188ca95b'), 'Item': 'Pinapples', 'selling price': 25.0, 'Quantity': 66, 'Profit': 970.0, 'Size': 'per Kg', 'barcode': 894}\n",
      "{'_id': ObjectId('5e5788999a1c2123188ca948'), 'Item': 'Peach', 'selling price': 24.0, 'Quantity': 32, 'Profit': 880.0, 'Size': 'per Kg', 'barcode': 893}\n",
      "{'_id': ObjectId('5e5788dd9a1c2123188ca95a'), 'Item': 'Peach', 'selling price': 24.0, 'Quantity': 32, 'Profit': 880.0, 'Size': 'per Kg', 'barcode': 893}\n",
      "{'_id': ObjectId('5e5788999a1c2123188ca93e'), 'Item': 'Mars', 'selling price': 14.0, 'Quantity': 44, 'Profit': 577.0, 'Size': 'gram', 'barcode': 6}\n",
      "{'_id': ObjectId('5e5788dd9a1c2123188ca950'), 'Item': 'Mars', 'selling price': 14.0, 'Quantity': 44, 'Profit': 577.0, 'Size': 'gram', 'barcode': 6}\n",
      "{'_id': ObjectId('5e5788999a1c2123188ca946'), 'Item': 'Mango', 'selling price': 22.5, 'Quantity': 65, 'Profit': 3450.0, 'Size': 'per Kg', 'barcode': 891}\n",
      "{'_id': ObjectId('5e5788dd9a1c2123188ca958'), 'Item': 'Mango', 'selling price': 22.5, 'Quantity': 65, 'Profit': 3450.0, 'Size': 'per Kg', 'barcode': 891}\n",
      "{'_id': ObjectId('5e5788999a1c2123188ca93a'), 'Item': 'KitKat', 'selling price': 15.0, 'Quantity': 77, 'Profit': 1386.0, 'Size': 'grams', 'barcode': 2}\n",
      "{'_id': ObjectId('5e5788dd9a1c2123188ca94c'), 'Item': 'KitKat', 'selling price': 15.0, 'Quantity': 77, 'Profit': 1386.0, 'Size': 'grams', 'barcode': 2}\n",
      "{'_id': ObjectId('5e5788999a1c2123188ca947'), 'Item': 'Grape', 'selling price': 16.0, 'Quantity': 56, 'Profit': 1500.0, 'Size': 'per Kg', 'barcode': 892}\n",
      "{'_id': ObjectId('5e5788dd9a1c2123188ca959'), 'Item': 'Grape', 'selling price': 16.0, 'Quantity': 56, 'Profit': 1500.0, 'Size': 'per Kg', 'barcode': 892}\n",
      "{'_id': ObjectId('5e5788999a1c2123188ca939'), 'Item': 'Dairy Milk', 'selling price': 12.5, 'Quantity': 56, 'Profit': 576.0, 'Size': 'grams', 'barcode': 1}\n",
      "{'_id': ObjectId('5e5788dd9a1c2123188ca94b'), 'Item': 'Dairy Milk', 'selling price': 12.5, 'Quantity': 56, 'Profit': 576.0, 'Size': 'grams', 'barcode': 1}\n",
      "{'_id': ObjectId('5e5788999a1c2123188ca93c'), 'Item': 'Bar one', 'selling price': 11.0, 'Quantity': 87, 'Profit': 786.0, 'Size': 'grams', 'barcode': 4}\n",
      "{'_id': ObjectId('5e5788dd9a1c2123188ca94e'), 'Item': 'Bar one', 'selling price': 11.0, 'Quantity': 87, 'Profit': 786.0, 'Size': 'grams', 'barcode': 4}\n",
      "{'_id': ObjectId('5e5788999a1c2123188ca944'), 'Item': 'Banana', 'selling price': 12.0, 'Quantity': 89, 'Profit': 2500.0, 'Size': 'per Kg', 'barcode': 889}\n",
      "{'_id': ObjectId('5e5788dd9a1c2123188ca956'), 'Item': 'Banana', 'selling price': 12.0, 'Quantity': 89, 'Profit': 2500.0, 'Size': 'per Kg', 'barcode': 889}\n",
      "{'_id': ObjectId('5e5788999a1c2123188ca945'), 'Item': 'Apple', 'selling price': 12.0, 'Quantity': 45, 'Profit': 1950.0, 'Size': 'per Kg', 'barcode': 890}\n",
      "{'_id': ObjectId('5e5788dd9a1c2123188ca957'), 'Item': 'Apple', 'selling price': 12.0, 'Quantity': 45, 'Profit': 1950.0, 'Size': 'per Kg', 'barcode': 890}\n"
     ]
    }
   ],
   "source": [
    "import pymongo\n",
    "\n",
    "myclient = pymongo.MongoClient(\"mongodb://localhost:27017/\")\n",
    "mydb = myclient[\"Data_Tracker\"]\n",
    "mycol = mydb[\"Stock\"]\n",
    "\n",
    "mydoc = mycol.find().sort(\"Item\", -1)\n",
    "for x in mydoc:\n",
    "    print(x)"
   ]
  },
  {
   "cell_type": "code",
   "execution_count": 6,
   "metadata": {},
   "outputs": [
    {
     "name": "stdout",
     "output_type": "stream",
     "text": [
      "<pymongo.results.UpdateResult object at 0x000002C24F3864A8>\n"
     ]
    }
   ],
   "source": [
    "import pymongo\n",
    "\n",
    "myclient = pymongo.MongoClient(\"mongodb://localhost:27017/\")\n",
    "mydb = myclient[\"Data_Tracker\"]\n",
    "mycol = mydb[\"Stock\"]\n",
    "\n",
    "myquery =  { \"Item\": \"Pinapples\",\"selling price\":25.00, \"Quantity\":66,\"Profit\":970.00 , \"Size\": \"per Kg\" , \"barcode\": 894 } \n",
    "newvalues = { \"$set\": { \"Item\": \"Pinapples\",\"selling price\":15.00, \"Quantity\":100,\"Profit\":1200.00 , \"Size\": \"per Kg\" , \"barcode\": 894 } }\n",
    "\n",
    "x=mycol.update_one(myquery, newvalues)\n",
    "\n",
    "#print \"customers\" after the update:\n",
    "#for x in mycol.find():\n",
    "print(x)"
   ]
  },
  {
   "cell_type": "code",
   "execution_count": 7,
   "metadata": {},
   "outputs": [
    {
     "name": "stdout",
     "output_type": "stream",
     "text": [
      "<pymongo.cursor.Cursor object at 0x000002C24F3A7548>\n"
     ]
    }
   ],
   "source": [
    "import pymongo\n",
    "\n",
    "myclient = pymongo.MongoClient(\"mongodb://localhost:27017/\")\n",
    "mydb = myclient[\"Data_Tracker\"]\n",
    "mycol = mydb[\"Stock\"]\n",
    "x=mycol.find({\"selling price\":12.00})\n",
    "print(x)"
   ]
  },
  {
   "cell_type": "code",
   "execution_count": null,
   "metadata": {},
   "outputs": [],
   "source": []
  }
 ],
 "metadata": {
  "kernelspec": {
   "display_name": "Python 3",
   "language": "python",
   "name": "python3"
  },
  "language_info": {
   "codemirror_mode": {
    "name": "ipython",
    "version": 3
   },
   "file_extension": ".py",
   "mimetype": "text/x-python",
   "name": "python",
   "nbconvert_exporter": "python",
   "pygments_lexer": "ipython3",
   "version": "3.7.4"
  }
 },
 "nbformat": 4,
 "nbformat_minor": 2
}
